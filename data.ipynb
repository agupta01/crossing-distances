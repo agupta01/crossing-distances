{
 "cells": [
  {
   "cell_type": "code",
   "execution_count": null,
   "id": "0789966f-56a8-44c4-aba5-d7c0316a6501",
   "metadata": {},
   "outputs": [],
   "source": [
    "import os\n",
    "from typing import Optional, Tuple\n",
    "from datetime import datetime\n",
    "from uuid import uuid4\n",
    "import math\n",
    "from samgeo import tms_to_geotiff, choose_device, geotiff_to_jpg\n",
    "from collections import namedtuple"
   ]
  },
  {
   "cell_type": "code",
   "execution_count": null,
   "id": "46969a2f-5126-448e-a82c-1d87241dd1fb",
   "metadata": {},
   "outputs": [],
   "source": [
    "!nvidia-smi"
   ]
  },
  {
   "cell_type": "code",
   "execution_count": null,
   "id": "d50b5a5e-571e-4ba5-a024-869fd793e7cf",
   "metadata": {},
   "outputs": [],
   "source": [
    "choose_device(empty_cache=True)"
   ]
  },
  {
   "cell_type": "code",
   "execution_count": null,
   "id": "25cc440f-6a4d-464e-8868-70286e371685",
   "metadata": {},
   "outputs": [],
   "source": [
    "Coordinate = namedtuple(\"Coordinate\", [\"lat\", \"long\"])\n",
    "Coordinate"
   ]
  },
  {
   "cell_type": "code",
   "execution_count": null,
   "id": "0d82e341-48e9-4e5d-9806-12bb213b447d",
   "metadata": {},
   "outputs": [],
   "source": [
    "def coords_from_distance(lat: float, long: float, dist: float, heading: float) -> Coordinate:\n",
    "    \"\"\"\n",
    "    Return the lat/long coordinates after traveling a certain distance from\n",
    "    some original coordinates at a specified compass heading.\n",
    "    \"\"\"\n",
    "    # Convert latitude and longitude to radians\n",
    "    lat_rad = math.radians(lat)\n",
    "    long_rad = math.radians(long)\n",
    "\n",
    "    # Convert heading to radians\n",
    "    heading_rad = math.radians(heading)\n",
    "\n",
    "    # Earth's radius in meters\n",
    "    earth_radius = 6371000\n",
    "\n",
    "    # Calculate angular distance\n",
    "    angular_distance = dist / earth_radius\n",
    "\n",
    "    # Calculate new latitude\n",
    "    new_lat_rad = math.asin(\n",
    "        math.sin(lat_rad) * math.cos(angular_distance) +\n",
    "        math.cos(lat_rad) * math.sin(angular_distance) * math.cos(heading_rad)\n",
    "    )\n",
    "\n",
    "    # Calculate new longitude\n",
    "    new_long_rad = long_rad + math.atan2(\n",
    "        math.sin(heading_rad) * math.sin(angular_distance) * math.cos(lat_rad),\n",
    "        math.cos(angular_distance) - math.sin(lat_rad) * math.sin(new_lat_rad)\n",
    "    )\n",
    "\n",
    "    # Convert new latitude and longitude back to degrees\n",
    "    new_lat = math.degrees(new_lat_rad)\n",
    "    new_long = math.degrees(new_long_rad)\n",
    "\n",
    "    return Coordinate(lat=new_lat, long=new_long)"
   ]
  },
  {
   "cell_type": "code",
   "execution_count": null,
   "id": "290a7eb3-c2e2-46c5-9d63-dda8073fe865",
   "metadata": {},
   "outputs": [],
   "source": [
    "initial_lat = 40.7128  # New York City latitude\n",
    "initial_long = -74.0060  # New York City longitude\n",
    "distance = 30  # 1000 meters\n",
    "heading = 45  # 45 degrees (northeast)\n",
    "\n",
    "new_lat, new_long = coords_from_distance(initial_lat, initial_long, distance, heading)\n",
    "print(f\"New coordinates: {new_lat}, {new_long}\")"
   ]
  },
  {
   "cell_type": "code",
   "execution_count": null,
   "id": "a31f90bc-d5b2-49c5-beea-8e14d9e1b62b",
   "metadata": {},
   "outputs": [],
   "source": [
    "def get_crosswalk_image(lat: float, long: float, radius: float = 5.0, directory: Optional[str] = './') -> str:\n",
    "    \"\"\"\n",
    "    Fetches an image of the crosswalk and saves to a file.\n",
    "    Filename will be `crosswalk_{id}.tiff` where id is random.\n",
    "    Returns id of image.\n",
    "    \"\"\"\n",
    "    crosswalk_id = str(uuid4())\n",
    "    filename = os.path.join(directory, f\"crosswalk_{crosswalk_id}.tif\")\n",
    "\n",
    "    # Build bounding box based on radius\n",
    "    diag_radius = math.sqrt(2) * radius\n",
    "    top_left = coords_from_distance(lat, long, diag_radius, 315)\n",
    "    bottom_right = coords_from_distance(lat, long, diag_radius, 135)\n",
    "    bounding_box = [bottom_right.long, bottom_right.lat, top_left.long, top_left.lat]\n",
    "\n",
    "    tms_to_geotiff(\n",
    "        output=filename, \n",
    "        bbox=bounding_box, \n",
    "        crs=\"EPSG:3857\", \n",
    "        zoom=22, \n",
    "        source=\"Satellite\", \n",
    "        overwrite=True, \n",
    "        quiet=True\n",
    "    )\n",
    "\n",
    "    return crosswalk_id"
   ]
  },
  {
   "cell_type": "code",
   "execution_count": null,
   "id": "b450df3e-9f7b-4b74-93e7-dd347600e1bd",
   "metadata": {},
   "outputs": [],
   "source": [
    "os.makedirs(\"./crosswalk_tiles\", exist_ok=True)"
   ]
  },
  {
   "cell_type": "code",
   "execution_count": null,
   "id": "f05aa10f-e6d9-4cd3-aee7-4b86da5eee90",
   "metadata": {},
   "outputs": [],
   "source": [
    "crosswalk_id = get_crosswalk_image(\n",
    "    lat=37.7521150,\n",
    "    long=-122.4206873,\n",
    "    radius=25.0,\n",
    "    directory=\"./crosswalk_tiles\",\n",
    ")\n",
    "crosswalk_id"
   ]
  },
  {
   "cell_type": "code",
   "execution_count": null,
   "id": "de0134db-f6cf-4dbe-8d61-e2654fe2ed92",
   "metadata": {},
   "outputs": [],
   "source": [
    "geotiff_to_jpg(\n",
    "    f\"./crosswalk_tiles/crosswalk_{crosswalk_id}.tif\", \n",
    "    f\"./crosswalk_tiles/crosswalk_{crosswalk_id}.jpg\"\n",
    ")"
   ]
  },
  {
   "cell_type": "code",
   "execution_count": null,
   "id": "4c627a45-39b0-47af-ad46-46daa4b7416b",
   "metadata": {},
   "outputs": [],
   "source": []
  }
 ],
 "metadata": {
  "kernelspec": {
   "display_name": "gis",
   "language": "python",
   "name": "gis"
  },
  "language_info": {
   "codemirror_mode": {
    "name": "ipython",
    "version": 3
   },
   "file_extension": ".py",
   "mimetype": "text/x-python",
   "name": "python",
   "nbconvert_exporter": "python",
   "pygments_lexer": "ipython3",
   "version": "3.12.7"
  }
 },
 "nbformat": 4,
 "nbformat_minor": 5
}
